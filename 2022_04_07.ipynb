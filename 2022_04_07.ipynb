{
 "cells": [
  {
   "cell_type": "markdown",
   "id": "7759c738-289f-4417-8f6c-033dd132c7e5",
   "metadata": {},
   "source": [
    "### Bayesian Blocks"
   ]
  },
  {
   "cell_type": "code",
   "execution_count": 1,
   "id": "fc5b41fb-cdca-4f9e-8ecb-caeae05bf360",
   "metadata": {},
   "outputs": [],
   "source": [
    "import numpy as np\n",
    "from scipy import stats"
   ]
  },
  {
   "cell_type": "code",
   "execution_count": 2,
   "id": "3d53c406-35cc-4b20-98f8-d59ea1f8e4ef",
   "metadata": {},
   "outputs": [],
   "source": [
    "np.random.seed(0)\n",
    "\n",
    "x = np.concatenate([stats.cauchy(-5, 1.8).rvs(500),\n",
    "                    stats.cauchy(-4, 0.8).rvs(2000),\n",
    "                    stats.cauchy(-1, 0.3).rvs(500),\n",
    "                    stats.cauchy(2, 0.8).rvs(1000),\n",
    "                    stats.cauchy(4, 1.5).rvs(500)])\n",
    "\n",
    "x = x[(x> -15) & (x < 15)]"
   ]
  },
  {
   "cell_type": "code",
   "execution_count": 11,
   "id": "e6b2469e-646d-47ce-9e76-2fc13e2f9cf9",
   "metadata": {},
   "outputs": [
    {
     "data": {
      "text/plain": [
       "(array([0.00376685, 0.00580723, 0.01985446, 0.1169294 , 0.07172716,\n",
       "        0.06694012, 0.03861025, 0.00933866, 0.00463009, 0.001648  ]),\n",
       " array([-14.97136966, -12.0237102 ,  -9.07605075,  -6.12839129,\n",
       "         -3.18073183,  -0.23307238,   2.71458708,   5.66224653,\n",
       "          8.60990599,  11.55756545,  14.5052249 ]),\n",
       " <BarContainer object of 10 artists>)"
      ]
     },
     "execution_count": 11,
     "metadata": {},
     "output_type": "execute_result"
    },
    {
     "data": {
      "image/png": "[encoded data removed]",
      "text/plain": [
       "<Figure size 432x288 with 1 Axes>"
      ]
     },
     "metadata": {
      "needs_background": "light"
     },
     "output_type": "display_data"
    }
   ],
   "source": [
    "import pylab as pl\n",
    "\n",
    "pl.hist(x, density=True)"
   ]
  },
  {
   "cell_type": "code",
   "execution_count": 10,
   "id": "4d008118-46e3-43d5-b0ae-d73b5b4d5edb",
   "metadata": {},
   "outputs": [
    {
     "data": {
      "text/plain": [
       "(array([0.00313904, 0.00392381, 0.00392381, 0.00313904, 0.00235428,\n",
       "        0.00313904, 0.00549333, 0.00392381, 0.00470857, 0.00392381,\n",
       "        0.00235428, 0.00313904, 0.00549333, 0.00392381, 0.00627809,\n",
       "        0.00549333, 0.00549333, 0.01020189, 0.00706285, 0.00863237,\n",
       "        0.00784761, 0.00706285, 0.01334094, 0.01177142, 0.01726474,\n",
       "        0.0141257 , 0.02040379, 0.02668188, 0.03295997, 0.04708566,\n",
       "        0.03766853, 0.05571804, 0.06513517, 0.07141326, 0.10751227,\n",
       "        0.17029315, 0.18206457, 0.20246836, 0.14831984, 0.12870082,\n",
       "        0.08004563, 0.06670469, 0.04865519, 0.0463009 , 0.05571804,\n",
       "        0.05257899, 0.09652561, 0.13497891, 0.09103229, 0.04473138,\n",
       "        0.03139044, 0.0321752 , 0.04551614, 0.05100947, 0.05493328,\n",
       "        0.08004563, 0.10829703, 0.09181705, 0.10123418, 0.07298278,\n",
       "        0.06356565, 0.05022471, 0.04943995, 0.04708566, 0.03845329,\n",
       "        0.03374473, 0.03766853, 0.02354283, 0.02511235, 0.01726474,\n",
       "        0.01177142, 0.02040379, 0.00706285, 0.01177142, 0.00784761,\n",
       "        0.00784761, 0.00549333, 0.00784761, 0.01020189, 0.00313904,\n",
       "        0.00706285, 0.00941713, 0.00156952, 0.00313904, 0.00549333,\n",
       "        0.00313904, 0.00313904, 0.00627809, 0.00313904, 0.00392381,\n",
       "        0.00235428, 0.        , 0.00078476, 0.00313904, 0.00235428,\n",
       "        0.00156952, 0.00235428, 0.00078476, 0.00078476, 0.00235428]),\n",
       " array([-14.97136966, -14.67660371, -14.38183777, -14.08707182,\n",
       "        -13.79230588, -13.49753993, -13.20277398, -12.90800804,\n",
       "        -12.61324209, -12.31847615, -12.0237102 , -11.72894426,\n",
       "        -11.43417831, -11.13941236, -10.84464642, -10.54988047,\n",
       "        -10.25511453,  -9.96034858,  -9.66558264,  -9.37081669,\n",
       "         -9.07605075,  -8.7812848 ,  -8.48651885,  -8.19175291,\n",
       "         -7.89698696,  -7.60222102,  -7.30745507,  -7.01268913,\n",
       "         -6.71792318,  -6.42315724,  -6.12839129,  -5.83362534,\n",
       "         -5.5388594 ,  -5.24409345,  -4.94932751,  -4.65456156,\n",
       "         -4.35979562,  -4.06502967,  -3.77026372,  -3.47549778,\n",
       "         -3.18073183,  -2.88596589,  -2.59119994,  -2.296434  ,\n",
       "         -2.00166805,  -1.70690211,  -1.41213616,  -1.11737021,\n",
       "         -0.82260427,  -0.52783832,  -0.23307238,   0.06169357,\n",
       "          0.35645951,   0.65122546,   0.94599141,   1.24075735,\n",
       "          1.5355233 ,   1.83028924,   2.12505519,   2.41982113,\n",
       "          2.71458708,   3.00935302,   3.30411897,   3.59888492,\n",
       "          3.89365086,   4.18841681,   4.48318275,   4.7779487 ,\n",
       "          5.07271464,   5.36748059,   5.66224653,   5.95701248,\n",
       "          6.25177843,   6.54654437,   6.84131032,   7.13607626,\n",
       "          7.43084221,   7.72560815,   8.0203741 ,   8.31514005,\n",
       "          8.60990599,   8.90467194,   9.19943788,   9.49420383,\n",
       "          9.78896977,  10.08373572,  10.37850166,  10.67326761,\n",
       "         10.96803356,  11.2627995 ,  11.55756545,  11.85233139,\n",
       "         12.14709734,  12.44186328,  12.73662923,  13.03139517,\n",
       "         13.32616112,  13.62092707,  13.91569301,  14.21045896,\n",
       "         14.5052249 ]),\n",
       " <BarContainer object of 100 artists>)"
      ]
     },
     "execution_count": 10,
     "metadata": {},
     "output_type": "execute_result"
    },
    {
     "data": {
      "image/png": "[encoded data removed]",
      "text/plain": [
       "<Figure size 432x288 with 1 Axes>"
      ]
     },
     "metadata": {
      "needs_background": "light"
     },
     "output_type": "display_data"
    }
   ],
   "source": [
    "pl.hist(x, bins=100, density=True)"
   ]
  },
  {
   "cell_type": "code",
   "execution_count": 12,
   "id": "3131d034-fa09-4bd5-bbd2-1be42e072db3",
   "metadata": {},
   "outputs": [],
   "source": [
    "def bayesian_blocks(t):\n",
    "    \"\"\"Bayesian Blocks Implementation\n",
    "\n",
    "    By Jake Vanderplas.  License: BSD\n",
    "    Based on algorithm outlined in http://adsabs.harvard.edu/abs/2012arXiv1207.5578S\n",
    "\n",
    "    Parameters\n",
    "    ----------\n",
    "    t : ndarray, length N\n",
    "        data to be histogrammed\n",
    "\n",
    "    Returns\n",
    "    -------\n",
    "    bins : ndarray\n",
    "        array containing the (N+1) bin edges\n",
    "\n",
    "    Notes\n",
    "    -----\n",
    "    This is an incomplete implementation: it may fail for some\n",
    "    datasets.  Alternate fitness functions and prior forms can\n",
    "    be found in the paper listed above.\n",
    "    \"\"\"\n",
    "    # copy and sort the array\n",
    "    t = np.sort(t)\n",
    "    N = t.size\n",
    "    \n",
    "    # create length-(N + 1) array of cell edges\n",
    "    edges = np.concatenate([t[:1],\n",
    "                            0.5 * (t[1:] + t[:-1]),\n",
    "                            t[-1:]])\n",
    "    block_length = t[-1] - edges\n",
    "    \n",
    "    # arrays needed for the iteration\n",
    "    nn_vec = np.ones(N)\n",
    "    best = np.zeros(N, dtype=float)\n",
    "    last = np.zeros(N, dtype=int)\n",
    "    \n",
    "    # Start with first data cell : add one cell at each iteration\n",
    "    for K in range(N):\n",
    "        # Compute the width and count of the final bin for all possible\n",
    "        # locations of the K^th changepoint\n",
    "        width = block_length[:K + 1] - block_length[K + 1]\n",
    "        count_vec = np.cumsum(nn_vec[:K + 1][::-1])[::-1]\n",
    "        \n",
    "        # evaluate fitness function for these possibilities\n",
    "        fit_vec = count_vec * (np.log(count_vec) - np.log(width))\n",
    "        fit_vec -= 4\n",
    "        fit_vec[1:] += best[:K]\n",
    "        \n",
    "        # find the max of the fitness : this is the K^th changepoint\n",
    "        i_max = np.argmax(fit_vec)\n",
    "        last[K] = i_max\n",
    "        best[K] = fit_vec[i_max]\n",
    "        \n",
    "    # Recover changepoint by iteratively peeling off the last block\n",
    "    change_points = np.zeros(N, dtype=int)\n",
    "    i_cp = N\n",
    "    ind = N\n",
    "    while True:\n",
    "        i_cp -= 1\n",
    "        change_points[i_cp] = ind\n",
    "        if ind == 0:\n",
    "            break\n",
    "        ind = last[ind - 1]\n",
    "        \n",
    "    change_points = change_points[i_cp:]\n",
    "    \n",
    "    return edges[change_points]"
   ]
  },
  {
   "cell_type": "code",
   "execution_count": 14,
   "id": "202f05d5-e405-4c5b-b75d-1a978de87aed",
   "metadata": {},
   "outputs": [
    {
     "data": {
      "image/png": "[encoded data removed]",
      "text/plain": [
       "<Figure size 432x288 with 1 Axes>"
      ]
     },
     "metadata": {
      "needs_background": "light"
     },
     "output_type": "display_data"
    }
   ],
   "source": [
    "H1 = pl.hist(x, bins=200, histtype = 'stepfilled', alpha=0.2, density=True)\n",
    "\n",
    "H2 = pl.hist(x, bins=bayesian_blocks(x), color='black', histtype='step', density=True)"
   ]
  },
  {
   "cell_type": "code",
   "execution_count": 15,
   "id": "62adc1d0-602b-48bc-b060-9cf46f225382",
   "metadata": {},
   "outputs": [],
   "source": [
    "bins_x = bayesian_blocks(x)"
   ]
  },
  {
   "cell_type": "code",
   "execution_count": 16,
   "id": "82c59b64-a0cd-4217-a2a2-52c92dd14b3a",
   "metadata": {},
   "outputs": [
    {
     "data": {
      "text/plain": [
       "array([-14.97136966,  -9.97833787,  -8.30032639,  -7.20947227,\n",
       "        -6.5664823 ,  -5.61111739,  -4.93909444,  -4.63517611,\n",
       "        -3.67195943,  -3.30025458,  -2.72032808,  -1.31563551,\n",
       "        -0.68004784,  -0.32148883,   0.48496711,   1.39257178,\n",
       "         2.36089893,   3.10617066,   4.68536101,   6.16901031,\n",
       "         9.11405688,  11.53270207,  14.5052249 ])"
      ]
     },
     "execution_count": 16,
     "metadata": {},
     "output_type": "execute_result"
    }
   ],
   "source": [
    "bins_x"
   ]
  },
  {
   "cell_type": "code",
   "execution_count": null,
   "id": "71bd9994-43ab-472d-9cd2-9ff19a49e52c",
   "metadata": {},
   "outputs": [],
   "source": []
  }
 ],
 "metadata": {
  "kernelspec": {
   "display_name": "Python 3 (ipykernel)",
   "language": "python",
   "name": "python3"
  },
  "language_info": {
   "codemirror_mode": {
    "name": "ipython",
    "version": 3
   },
   "file_extension": ".py",
   "mimetype": "text/x-python",
   "name": "python",
   "nbconvert_exporter": "python",
   "pygments_lexer": "ipython3",
   "version": "3.9.10"
  }
 },
 "nbformat": 4,
 "nbformat_minor": 5
}
