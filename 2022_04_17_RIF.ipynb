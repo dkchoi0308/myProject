{
 "cells": [
  {
   "cell_type": "code",
   "execution_count": 1,
   "id": "404f90a8-85fa-4a34-909a-ac0b90d93126",
   "metadata": {},
   "outputs": [
    {
     "name": "stdout",
     "output_type": "stream",
     "text": [
      "81\n"
     ]
    }
   ],
   "source": [
    "a = 3\n",
    "b = 4\n",
    "\n",
    "power = pow(a, b)\n",
    "\n",
    "print(power)"
   ]
  },
  {
   "cell_type": "code",
   "execution_count": 2,
   "id": "3d1da29b-6755-4186-b1ce-ce2151b41b85",
   "metadata": {},
   "outputs": [
    {
     "name": "stdout",
     "output_type": "stream",
     "text": [
      "0.7777777777777778\n"
     ]
    }
   ],
   "source": [
    "import numpy as np\n",
    "\n",
    "L4 = [[2, -9, 5], [-1, 0, 4], [3, 1, 2]]\n",
    "\n",
    "mean = np.mean(L4)\n",
    "\n",
    "print(mean)"
   ]
  },
  {
   "cell_type": "code",
   "execution_count": 3,
   "id": "d7f08eea-041d-4eb6-89ac-9c52227d5ef6",
   "metadata": {},
   "outputs": [
    {
     "data": {
      "text/plain": [
       "array([[0., 0., 0., 0., 0.],\n",
       "       [0., 0., 0., 0., 0.],\n",
       "       [0., 0., 0., 0., 0.],\n",
       "       [0., 0., 0., 0., 0.],\n",
       "       [0., 0., 0., 0., 0.]])"
      ]
     },
     "execution_count": 3,
     "metadata": {},
     "output_type": "execute_result"
    }
   ],
   "source": [
    "nparray = np.zeros((5, 5))\n",
    "\n",
    "nparray"
   ]
  },
  {
   "cell_type": "code",
   "execution_count": 4,
   "id": "433deef6-3b10-4f43-be08-751545e0a63e",
   "metadata": {},
   "outputs": [
    {
     "name": "stdout",
     "output_type": "stream",
     "text": [
      "1\n",
      "2\n",
      "3\n",
      "4\n",
      "5\n",
      "6\n",
      "7\n",
      "8\n",
      "9\n",
      "10\n",
      "11\n",
      "12\n",
      "13\n",
      "14\n",
      "15\n",
      "16\n",
      "17\n",
      "18\n",
      "19\n"
     ]
    }
   ],
   "source": [
    "stop = False\n",
    "i = 0\n",
    "\n",
    "while stop == False:\n",
    "    i += 1\n",
    "    print(i)\n",
    "    \n",
    "    if i >= 19:\n",
    "        stop = True"
   ]
  },
  {
   "cell_type": "code",
   "execution_count": 7,
   "id": "ac22bf16-4535-4cd9-ad44-3e4b0dfc4c35",
   "metadata": {},
   "outputs": [],
   "source": [
    "def calc_distance(list_x, list_y):\n",
    "    \n",
    "    x1 = list_x[0]\n",
    "    y1 = list_x[1]\n",
    "    x2 = list_y[0]\n",
    "    y2 = list_y[0]\n",
    "    \n",
    "    distance = np.sqrt(pow((x1-x2),2) + pow((y1-y2),2))\n",
    "    \n",
    "    return distance"
   ]
  },
  {
   "cell_type": "code",
   "execution_count": 8,
   "id": "d2278828-9f05-43d5-8f32-a6e4e9c4c2eb",
   "metadata": {},
   "outputs": [
    {
     "data": {
      "text/plain": [
       "7.211102550927978"
      ]
     },
     "execution_count": 8,
     "metadata": {},
     "output_type": "execute_result"
    }
   ],
   "source": [
    "list_x = [5, 3]\n",
    "list_y = [9, 10]\n",
    "calc_distance(list_x, list_y)"
   ]
  },
  {
   "cell_type": "code",
   "execution_count": 9,
   "id": "18ca0ba5-59ca-4d86-9a86-73f5f0b937ff",
   "metadata": {},
   "outputs": [
    {
     "data": {
      "text/plain": [
       "3.0"
      ]
     },
     "execution_count": 9,
     "metadata": {},
     "output_type": "execute_result"
    }
   ],
   "source": [
    "list_x = [0, 3]\n",
    "list_y = [0, 4]\n",
    "calc_distance(list_x, list_y)"
   ]
  },
  {
   "cell_type": "code",
   "execution_count": 10,
   "id": "7059ec22-0548-4a0c-9f7a-70f49a549810",
   "metadata": {},
   "outputs": [
    {
     "name": "stdout",
     "output_type": "stream",
     "text": [
      "5.0\n"
     ]
    }
   ],
   "source": [
    "def distance(x1, y1, x2, y2):                       # we create a new function \"distance\" that takes coordinates of both points as arguments\n",
    "    d = pow(pow(x1 - x2, 2) + pow(y1 - y2, 2), 0.5) # we calculate the distance between two points using the formula provided in the hint (\"pow\" function is power)\n",
    "    return d                                        # this line means that our function will return the distance we calculated before\n",
    "\n",
    "dist = distance(0, 0, 3, 4)                         # we call our function while inputting 4 required arguments, that are coordinates\n",
    "print(dist) "
   ]
  },
  {
   "cell_type": "code",
   "execution_count": 11,
   "id": "2cd38738-5ffa-49f9-b391-aed2b4522275",
   "metadata": {},
   "outputs": [],
   "source": [
    "class Bot():\n",
    "    \n",
    "    def __init__(self, posx, posy):\n",
    "        self.posx = posx\n",
    "        self.posy = posy\n",
    "        \n",
    "    def move(self, speedx, speedy):\n",
    "        self.posx += speedx\n",
    "        self.posy += speedy"
   ]
  },
  {
   "cell_type": "code",
   "execution_count": 12,
   "id": "6e8c9156-78e6-4e51-af58-722f335478d6",
   "metadata": {},
   "outputs": [],
   "source": [
    "bot = Bot(3, 4)"
   ]
  },
  {
   "cell_type": "code",
   "execution_count": 14,
   "id": "955b4f06-98bb-461c-90f0-a4d0a9f9d3e7",
   "metadata": {},
   "outputs": [
    {
     "name": "stdout",
     "output_type": "stream",
     "text": [
      "3 4\n"
     ]
    }
   ],
   "source": [
    "bot\n",
    "print(bot.posx, bot.posy)"
   ]
  },
  {
   "cell_type": "code",
   "execution_count": 15,
   "id": "0731e121-69d6-4ebe-bff6-35ec51c3d0cd",
   "metadata": {},
   "outputs": [
    {
     "name": "stdout",
     "output_type": "stream",
     "text": [
      "5 3\n"
     ]
    }
   ],
   "source": [
    "bot.move(2, -1)\n",
    "\n",
    "print(bot.posx, bot.posy)"
   ]
  },
  {
   "cell_type": "code",
   "execution_count": 16,
   "id": "c0a58e29-81d2-4f96-b57d-c2e383d2a888",
   "metadata": {},
   "outputs": [
    {
     "name": "stdout",
     "output_type": "stream",
     "text": [
      "12.857142857142858\n"
     ]
    }
   ],
   "source": [
    "class Car():\n",
    "    \n",
    "    def __init__(self, topSpeed, acc):\n",
    "        self.topSpeed = topSpeed\n",
    "        self.acc = acc\n",
    "        \n",
    "    def calcTime(self, currentSpeed):\n",
    "        t = (self.topSpeed - currentSpeed) / self.acc\n",
    "        \n",
    "        return t\n",
    "    \n",
    "car = Car(75, 3.5)\n",
    "\n",
    "time = car.calcTime(30)\n",
    "\n",
    "print(time)"
   ]
  },
  {
   "cell_type": "markdown",
   "id": "ca34b079-c7c5-472e-9a46-026d471d6e9b",
   "metadata": {},
   "source": [
    "### model coding"
   ]
  },
  {
   "cell_type": "code",
   "execution_count": 17,
   "id": "e3f71d5f-30d1-4d14-bfec-c1a185a936db",
   "metadata": {},
   "outputs": [],
   "source": [
    "conversionRate = [0.15, 0.04, 0.13, 0.11, 0.05]\n",
    "\n",
    "N = 2000\n",
    "d = len(conversionRate)"
   ]
  },
  {
   "cell_type": "code",
   "execution_count": 19,
   "id": "6f340946-9e9c-4d60-aea1-8562f7816c48",
   "metadata": {},
   "outputs": [],
   "source": [
    "X = np.zeros((N, d))\n",
    "\n",
    "for i in range(N):\n",
    "    for j in range(d):\n",
    "        if np.random.rand() < conversionRate[j]:\n",
    "            X[i][j] = 1"
   ]
  },
  {
   "cell_type": "code",
   "execution_count": 20,
   "id": "fddcddb6-a492-4551-8ba2-b9e19c47bae7",
   "metadata": {},
   "outputs": [
    {
     "data": {
      "text/plain": [
       "array([[0., 0., 0., 0., 0.],\n",
       "       [0., 0., 0., 0., 0.],\n",
       "       [0., 0., 1., 0., 0.],\n",
       "       ...,\n",
       "       [0., 0., 1., 0., 0.],\n",
       "       [0., 0., 0., 0., 0.],\n",
       "       [1., 0., 1., 1., 0.]])"
      ]
     },
     "execution_count": 20,
     "metadata": {},
     "output_type": "execute_result"
    }
   ],
   "source": [
    "X"
   ]
  },
  {
   "cell_type": "code",
   "execution_count": 21,
   "id": "b2dc08c9-a9d7-48d7-b5ef-5997e728008a",
   "metadata": {},
   "outputs": [],
   "source": [
    "nPosReward = np.zeros(d)\n",
    "nNegReward = np.zeros(d)"
   ]
  },
  {
   "cell_type": "code",
   "execution_count": 22,
   "id": "f830d575-5b47-46a2-9bab-0f919f8be415",
   "metadata": {},
   "outputs": [
    {
     "name": "stdout",
     "output_type": "stream",
     "text": [
      "Machine number 1was selected 315.0 times\n",
      "Machine number 2was selected 52.0 times\n",
      "Machine number 3was selected 1280.0 times\n",
      "Machine number 4was selected 319.0 times\n",
      "Machine number 5was selected 34.0 times\n",
      "Conclusion : Best machine is machine number 3\n"
     ]
    }
   ],
   "source": [
    "for i in range(N):\n",
    "    selected = 0\n",
    "    maxRandom = 0\n",
    "    \n",
    "    for j in range(d):\n",
    "        randomBeta = np.random.beta(nPosReward[j]+1, nNegReward[j]+1)\n",
    "        \n",
    "        if randomBeta > maxRandom:\n",
    "            maxRandom = randomBeta\n",
    "            selected = j\n",
    "            \n",
    "    if X[i][selected] == 1:\n",
    "        nPosReward[selected] +=1\n",
    "    else:\n",
    "        nNegReward[selected] +=1\n",
    "        \n",
    "nSelected = nPosReward + nNegReward\n",
    "\n",
    "for i in range(d):\n",
    "    print('Machine number ' + str(i +1) + 'was selected ' + str(nSelected[i]) + ' times')\n",
    "print('Conclusion : Best machine is machine number ' + str(np.argmax(nSelected) + 1))"
   ]
  },
  {
   "cell_type": "markdown",
   "id": "0a5954c7-3c5b-47e4-91b4-5a6018ae5a44",
   "metadata": {},
   "source": [
    "#### Comparison"
   ]
  },
  {
   "cell_type": "code",
   "execution_count": 23,
   "id": "25b649ba-8a21-49a0-b9f8-ca87bf4bfac6",
   "metadata": {},
   "outputs": [],
   "source": [
    "import pandas as pd"
   ]
  },
  {
   "cell_type": "code",
   "execution_count": 26,
   "id": "c7ab466d-d762-4959-b1ec-82521b6c2f1c",
   "metadata": {},
   "outputs": [
    {
     "name": "stdout",
     "output_type": "stream",
     "text": [
      "N = 200 d = 3 range = (0.0, 0.1) | result Thompson Sampling = 625 result Standard solution = 569\n",
      "N = 200 d = 4 range = (0.0, 0.1) | result Thompson Sampling = 547 result Standard solution = 478\n",
      "N = 200 d = 5 range = (0.0, 0.1) | result Thompson Sampling = 508 result Standard solution = 425\n",
      "N = 200 d = 6 range = (0.0, 0.1) | result Thompson Sampling = 402 result Standard solution = 378\n",
      "N = 200 d = 7 range = (0.0, 0.1) | result Thompson Sampling = 348 result Standard solution = 347\n",
      "N = 200 d = 8 range = (0.0, 0.1) | result Thompson Sampling = 313 result Standard solution = 299\n",
      "N = 200 d = 9 range = (0.0, 0.1) | result Thompson Sampling = 314 result Standard solution = 278\n",
      "N = 200 d = 10 range = (0.0, 0.1) | result Thompson Sampling = 251 result Standard solution = 240\n",
      "N = 200 d = 11 range = (0.0, 0.1) | result Thompson Sampling = 256 result Standard solution = 223\n",
      "N = 200 d = 12 range = (0.0, 0.1) | result Thompson Sampling = 228 result Standard solution = 177\n",
      "N = 200 d = 13 range = (0.0, 0.1) | result Thompson Sampling = 205 result Standard solution = 192\n",
      "N = 200 d = 14 range = (0.0, 0.1) | result Thompson Sampling = 204 result Standard solution = 173\n",
      "N = 200 d = 15 range = (0.0, 0.1) | result Thompson Sampling = 176 result Standard solution = 167\n",
      "N = 200 d = 16 range = (0.0, 0.1) | result Thompson Sampling = 173 result Standard solution = 174\n",
      "N = 200 d = 17 range = (0.0, 0.1) | result Thompson Sampling = 147 result Standard solution = 151\n",
      "N = 200 d = 18 range = (0.0, 0.1) | result Thompson Sampling = 155 result Standard solution = 140\n",
      "N = 200 d = 19 range = (0.0, 0.1) | result Thompson Sampling = 174 result Standard solution = 128\n",
      "N = 200 d = 20 range = (0.0, 0.1) | result Thompson Sampling = 158 result Standard solution = 132\n",
      "N = 200 d = 3 range = (0.0, 0.3) | result Thompson Sampling = 779 result Standard solution = 685\n",
      "N = 200 d = 4 range = (0.0, 0.3) | result Thompson Sampling = 665 result Standard solution = 579\n",
      "N = 200 d = 5 range = (0.0, 0.3) | result Thompson Sampling = 600 result Standard solution = 513\n",
      "N = 200 d = 6 range = (0.0, 0.3) | result Thompson Sampling = 554 result Standard solution = 459\n",
      "N = 200 d = 7 range = (0.0, 0.3) | result Thompson Sampling = 514 result Standard solution = 441\n",
      "N = 200 d = 8 range = (0.0, 0.3) | result Thompson Sampling = 461 result Standard solution = 430\n",
      "N = 200 d = 9 range = (0.0, 0.3) | result Thompson Sampling = 423 result Standard solution = 395\n",
      "N = 200 d = 10 range = (0.0, 0.3) | result Thompson Sampling = 418 result Standard solution = 324\n",
      "N = 200 d = 11 range = (0.0, 0.3) | result Thompson Sampling = 352 result Standard solution = 304\n",
      "N = 200 d = 12 range = (0.0, 0.3) | result Thompson Sampling = 358 result Standard solution = 304\n",
      "N = 200 d = 13 range = (0.0, 0.3) | result Thompson Sampling = 306 result Standard solution = 252\n",
      "N = 200 d = 14 range = (0.0, 0.3) | result Thompson Sampling = 290 result Standard solution = 230\n",
      "N = 200 d = 15 range = (0.0, 0.3) | result Thompson Sampling = 276 result Standard solution = 249\n",
      "N = 200 d = 16 range = (0.0, 0.3) | result Thompson Sampling = 282 result Standard solution = 243\n",
      "N = 200 d = 17 range = (0.0, 0.3) | result Thompson Sampling = 235 result Standard solution = 199\n",
      "N = 200 d = 18 range = (0.0, 0.3) | result Thompson Sampling = 229 result Standard solution = 182\n",
      "N = 200 d = 19 range = (0.0, 0.3) | result Thompson Sampling = 210 result Standard solution = 188\n",
      "N = 200 d = 20 range = (0.0, 0.3) | result Thompson Sampling = 215 result Standard solution = 183\n",
      "N = 200 d = 3 range = (0.0, 0.5) | result Thompson Sampling = 806 result Standard solution = 695\n",
      "N = 200 d = 4 range = (0.0, 0.5) | result Thompson Sampling = 742 result Standard solution = 612\n",
      "N = 200 d = 5 range = (0.0, 0.5) | result Thompson Sampling = 706 result Standard solution = 602\n",
      "N = 200 d = 6 range = (0.0, 0.5) | result Thompson Sampling = 650 result Standard solution = 572\n",
      "N = 200 d = 7 range = (0.0, 0.5) | result Thompson Sampling = 571 result Standard solution = 468\n",
      "N = 200 d = 8 range = (0.0, 0.5) | result Thompson Sampling = 563 result Standard solution = 465\n",
      "N = 200 d = 9 range = (0.0, 0.5) | result Thompson Sampling = 525 result Standard solution = 413\n",
      "N = 200 d = 10 range = (0.0, 0.5) | result Thompson Sampling = 479 result Standard solution = 381\n",
      "N = 200 d = 11 range = (0.0, 0.5) | result Thompson Sampling = 472 result Standard solution = 358\n",
      "N = 200 d = 12 range = (0.0, 0.5) | result Thompson Sampling = 444 result Standard solution = 377\n",
      "N = 200 d = 13 range = (0.0, 0.5) | result Thompson Sampling = 432 result Standard solution = 329\n",
      "N = 200 d = 14 range = (0.0, 0.5) | result Thompson Sampling = 387 result Standard solution = 321\n",
      "N = 200 d = 15 range = (0.0, 0.5) | result Thompson Sampling = 368 result Standard solution = 263\n",
      "N = 200 d = 16 range = (0.0, 0.5) | result Thompson Sampling = 338 result Standard solution = 254\n",
      "N = 200 d = 17 range = (0.0, 0.5) | result Thompson Sampling = 347 result Standard solution = 246\n",
      "N = 200 d = 18 range = (0.0, 0.5) | result Thompson Sampling = 323 result Standard solution = 237\n",
      "N = 200 d = 19 range = (0.0, 0.5) | result Thompson Sampling = 299 result Standard solution = 197\n",
      "N = 200 d = 20 range = (0.0, 0.5) | result Thompson Sampling = 286 result Standard solution = 211\n",
      "N = 1000 d = 3 range = (0.0, 0.1) | result Thompson Sampling = 783 result Standard solution = 681\n",
      "N = 1000 d = 4 range = (0.0, 0.1) | result Thompson Sampling = 744 result Standard solution = 610\n",
      "N = 1000 d = 5 range = (0.0, 0.1) | result Thompson Sampling = 656 result Standard solution = 580\n",
      "N = 1000 d = 6 range = (0.0, 0.1) | result Thompson Sampling = 611 result Standard solution = 499\n",
      "N = 1000 d = 7 range = (0.0, 0.1) | result Thompson Sampling = 551 result Standard solution = 463\n",
      "N = 1000 d = 8 range = (0.0, 0.1) | result Thompson Sampling = 520 result Standard solution = 436\n",
      "N = 1000 d = 9 range = (0.0, 0.1) | result Thompson Sampling = 497 result Standard solution = 393\n",
      "N = 1000 d = 10 range = (0.0, 0.1) | result Thompson Sampling = 446 result Standard solution = 339\n",
      "N = 1000 d = 11 range = (0.0, 0.1) | result Thompson Sampling = 406 result Standard solution = 319\n",
      "N = 1000 d = 12 range = (0.0, 0.1) | result Thompson Sampling = 370 result Standard solution = 308\n",
      "N = 1000 d = 13 range = (0.0, 0.1) | result Thompson Sampling = 377 result Standard solution = 275\n",
      "N = 1000 d = 14 range = (0.0, 0.1) | result Thompson Sampling = 323 result Standard solution = 298\n",
      "N = 1000 d = 15 range = (0.0, 0.1) | result Thompson Sampling = 293 result Standard solution = 254\n",
      "N = 1000 d = 16 range = (0.0, 0.1) | result Thompson Sampling = 305 result Standard solution = 249\n",
      "N = 1000 d = 17 range = (0.0, 0.1) | result Thompson Sampling = 307 result Standard solution = 211\n",
      "N = 1000 d = 18 range = (0.0, 0.1) | result Thompson Sampling = 256 result Standard solution = 203\n",
      "N = 1000 d = 19 range = (0.0, 0.1) | result Thompson Sampling = 266 result Standard solution = 218\n",
      "N = 1000 d = 20 range = (0.0, 0.1) | result Thompson Sampling = 249 result Standard solution = 215\n",
      "N = 1000 d = 3 range = (0.0, 0.3) | result Thompson Sampling = 882 result Standard solution = 750\n",
      "N = 1000 d = 4 range = (0.0, 0.3) | result Thompson Sampling = 852 result Standard solution = 709\n",
      "N = 1000 d = 5 range = (0.0, 0.3) | result Thompson Sampling = 768 result Standard solution = 634\n",
      "N = 1000 d = 6 range = (0.0, 0.3) | result Thompson Sampling = 762 result Standard solution = 595\n",
      "N = 1000 d = 7 range = (0.0, 0.3) | result Thompson Sampling = 724 result Standard solution = 564\n",
      "N = 1000 d = 8 range = (0.0, 0.3) | result Thompson Sampling = 675 result Standard solution = 510\n",
      "N = 1000 d = 9 range = (0.0, 0.3) | result Thompson Sampling = 640 result Standard solution = 493\n",
      "N = 1000 d = 10 range = (0.0, 0.3) | result Thompson Sampling = 623 result Standard solution = 454\n",
      "N = 1000 d = 11 range = (0.0, 0.3) | result Thompson Sampling = 586 result Standard solution = 450\n",
      "N = 1000 d = 12 range = (0.0, 0.3) | result Thompson Sampling = 569 result Standard solution = 404\n",
      "N = 1000 d = 13 range = (0.0, 0.3) | result Thompson Sampling = 534 result Standard solution = 403\n",
      "N = 1000 d = 14 range = (0.0, 0.3) | result Thompson Sampling = 519 result Standard solution = 390\n",
      "N = 1000 d = 15 range = (0.0, 0.3) | result Thompson Sampling = 450 result Standard solution = 366\n",
      "N = 1000 d = 16 range = (0.0, 0.3) | result Thompson Sampling = 450 result Standard solution = 363\n",
      "N = 1000 d = 17 range = (0.0, 0.3) | result Thompson Sampling = 436 result Standard solution = 325\n",
      "N = 1000 d = 18 range = (0.0, 0.3) | result Thompson Sampling = 423 result Standard solution = 294\n",
      "N = 1000 d = 19 range = (0.0, 0.3) | result Thompson Sampling = 410 result Standard solution = 309\n",
      "N = 1000 d = 20 range = (0.0, 0.3) | result Thompson Sampling = 381 result Standard solution = 272\n",
      "N = 1000 d = 3 range = (0.0, 0.5) | result Thompson Sampling = 906 result Standard solution = 807\n",
      "N = 1000 d = 4 range = (0.0, 0.5) | result Thompson Sampling = 866 result Standard solution = 720\n",
      "N = 1000 d = 5 range = (0.0, 0.5) | result Thompson Sampling = 842 result Standard solution = 700\n",
      "N = 1000 d = 6 range = (0.0, 0.5) | result Thompson Sampling = 836 result Standard solution = 657\n",
      "N = 1000 d = 7 range = (0.0, 0.5) | result Thompson Sampling = 772 result Standard solution = 621\n",
      "N = 1000 d = 8 range = (0.0, 0.5) | result Thompson Sampling = 742 result Standard solution = 563\n",
      "N = 1000 d = 9 range = (0.0, 0.5) | result Thompson Sampling = 700 result Standard solution = 570\n",
      "N = 1000 d = 10 range = (0.0, 0.5) | result Thompson Sampling = 715 result Standard solution = 485\n",
      "N = 1000 d = 11 range = (0.0, 0.5) | result Thompson Sampling = 677 result Standard solution = 501\n",
      "N = 1000 d = 12 range = (0.0, 0.5) | result Thompson Sampling = 671 result Standard solution = 508\n",
      "N = 1000 d = 13 range = (0.0, 0.5) | result Thompson Sampling = 657 result Standard solution = 444\n",
      "N = 1000 d = 14 range = (0.0, 0.5) | result Thompson Sampling = 625 result Standard solution = 434\n",
      "N = 1000 d = 15 range = (0.0, 0.5) | result Thompson Sampling = 605 result Standard solution = 390\n",
      "N = 1000 d = 16 range = (0.0, 0.5) | result Thompson Sampling = 588 result Standard solution = 401\n",
      "N = 1000 d = 17 range = (0.0, 0.5) | result Thompson Sampling = 572 result Standard solution = 371\n",
      "N = 1000 d = 18 range = (0.0, 0.5) | result Thompson Sampling = 521 result Standard solution = 357\n",
      "N = 1000 d = 19 range = (0.0, 0.5) | result Thompson Sampling = 534 result Standard solution = 351\n",
      "N = 1000 d = 20 range = (0.0, 0.5) | result Thompson Sampling = 502 result Standard solution = 341\n",
      "N = 5000 d = 3 range = (0.0, 0.1) | result Thompson Sampling = 894 result Standard solution = 792\n",
      "N = 5000 d = 4 range = (0.0, 0.1) | result Thompson Sampling = 862 result Standard solution = 716\n",
      "N = 5000 d = 5 range = (0.0, 0.1) | result Thompson Sampling = 825 result Standard solution = 664\n",
      "N = 5000 d = 6 range = (0.0, 0.1) | result Thompson Sampling = 758 result Standard solution = 623\n",
      "N = 5000 d = 7 range = (0.0, 0.1) | result Thompson Sampling = 709 result Standard solution = 543\n",
      "N = 5000 d = 8 range = (0.0, 0.1) | result Thompson Sampling = 725 result Standard solution = 547\n",
      "N = 5000 d = 9 range = (0.0, 0.1) | result Thompson Sampling = 665 result Standard solution = 512\n",
      "N = 5000 d = 10 range = (0.0, 0.1) | result Thompson Sampling = 662 result Standard solution = 530\n",
      "N = 5000 d = 11 range = (0.0, 0.1) | result Thompson Sampling = 611 result Standard solution = 475\n",
      "N = 5000 d = 12 range = (0.0, 0.1) | result Thompson Sampling = 618 result Standard solution = 434\n",
      "N = 5000 d = 13 range = (0.0, 0.1) | result Thompson Sampling = 592 result Standard solution = 406\n",
      "N = 5000 d = 14 range = (0.0, 0.1) | result Thompson Sampling = 563 result Standard solution = 433\n",
      "N = 5000 d = 15 range = (0.0, 0.1) | result Thompson Sampling = 541 result Standard solution = 389\n",
      "N = 5000 d = 16 range = (0.0, 0.1) | result Thompson Sampling = 507 result Standard solution = 355\n",
      "N = 5000 d = 17 range = (0.0, 0.1) | result Thompson Sampling = 503 result Standard solution = 377\n",
      "N = 5000 d = 18 range = (0.0, 0.1) | result Thompson Sampling = 482 result Standard solution = 333\n",
      "N = 5000 d = 19 range = (0.0, 0.1) | result Thompson Sampling = 463 result Standard solution = 337\n",
      "N = 5000 d = 20 range = (0.0, 0.1) | result Thompson Sampling = 411 result Standard solution = 302\n",
      "N = 5000 d = 3 range = (0.0, 0.3) | result Thompson Sampling = 932 result Standard solution = 816\n",
      "N = 5000 d = 4 range = (0.0, 0.3) | result Thompson Sampling = 925 result Standard solution = 786\n",
      "N = 5000 d = 5 range = (0.0, 0.3) | result Thompson Sampling = 892 result Standard solution = 744\n",
      "N = 5000 d = 6 range = (0.0, 0.3) | result Thompson Sampling = 891 result Standard solution = 697\n",
      "N = 5000 d = 7 range = (0.0, 0.3) | result Thompson Sampling = 829 result Standard solution = 643\n",
      "N = 5000 d = 8 range = (0.0, 0.3) | result Thompson Sampling = 839 result Standard solution = 649\n",
      "N = 5000 d = 9 range = (0.0, 0.3) | result Thompson Sampling = 827 result Standard solution = 617\n",
      "N = 5000 d = 10 range = (0.0, 0.3) | result Thompson Sampling = 805 result Standard solution = 579\n",
      "N = 5000 d = 11 range = (0.0, 0.3) | result Thompson Sampling = 780 result Standard solution = 572\n",
      "N = 5000 d = 12 range = (0.0, 0.3) | result Thompson Sampling = 749 result Standard solution = 525\n",
      "N = 5000 d = 13 range = (0.0, 0.3) | result Thompson Sampling = 742 result Standard solution = 535\n",
      "N = 5000 d = 14 range = (0.0, 0.3) | result Thompson Sampling = 703 result Standard solution = 485\n",
      "N = 5000 d = 15 range = (0.0, 0.3) | result Thompson Sampling = 719 result Standard solution = 476\n",
      "N = 5000 d = 16 range = (0.0, 0.3) | result Thompson Sampling = 686 result Standard solution = 455\n",
      "N = 5000 d = 17 range = (0.0, 0.3) | result Thompson Sampling = 682 result Standard solution = 437\n",
      "N = 5000 d = 18 range = (0.0, 0.3) | result Thompson Sampling = 649 result Standard solution = 436\n",
      "N = 5000 d = 19 range = (0.0, 0.3) | result Thompson Sampling = 638 result Standard solution = 423\n",
      "N = 5000 d = 20 range = (0.0, 0.3) | result Thompson Sampling = 618 result Standard solution = 383\n",
      "N = 5000 d = 3 range = (0.0, 0.5) | result Thompson Sampling = 947 result Standard solution = 869\n",
      "N = 5000 d = 4 range = (0.0, 0.5) | result Thompson Sampling = 928 result Standard solution = 809\n",
      "N = 5000 d = 5 range = (0.0, 0.5) | result Thompson Sampling = 937 result Standard solution = 758\n",
      "N = 5000 d = 6 range = (0.0, 0.5) | result Thompson Sampling = 908 result Standard solution = 746\n",
      "N = 5000 d = 7 range = (0.0, 0.5) | result Thompson Sampling = 881 result Standard solution = 691\n",
      "N = 5000 d = 8 range = (0.0, 0.5) | result Thompson Sampling = 873 result Standard solution = 698\n",
      "N = 5000 d = 9 range = (0.0, 0.5) | result Thompson Sampling = 855 result Standard solution = 626\n",
      "N = 5000 d = 10 range = (0.0, 0.5) | result Thompson Sampling = 844 result Standard solution = 640\n",
      "N = 5000 d = 11 range = (0.0, 0.5) | result Thompson Sampling = 837 result Standard solution = 583\n",
      "N = 5000 d = 12 range = (0.0, 0.5) | result Thompson Sampling = 837 result Standard solution = 569\n",
      "N = 5000 d = 13 range = (0.0, 0.5) | result Thompson Sampling = 808 result Standard solution = 554\n",
      "N = 5000 d = 14 range = (0.0, 0.5) | result Thompson Sampling = 793 result Standard solution = 526\n",
      "N = 5000 d = 15 range = (0.0, 0.5) | result Thompson Sampling = 808 result Standard solution = 503\n",
      "N = 5000 d = 16 range = (0.0, 0.5) | result Thompson Sampling = 755 result Standard solution = 514\n",
      "N = 5000 d = 17 range = (0.0, 0.5) | result Thompson Sampling = 756 result Standard solution = 495\n",
      "N = 5000 d = 18 range = (0.0, 0.5) | result Thompson Sampling = 745 result Standard solution = 468\n",
      "N = 5000 d = 19 range = (0.0, 0.5) | result Thompson Sampling = 722 result Standard solution = 468\n",
      "N = 5000 d = 20 range = (0.0, 0.5) | result Thompson Sampling = 722 result Standard solution = 433\n"
     ]
    }
   ],
   "source": [
    "N = [200, 1000, 5000]\n",
    "D = 20\n",
    "convRanges = [(0., 0.1), (0., 0.3), (0., 0.5)]\n",
    "\n",
    "results = list()\n",
    "\n",
    "for n in N:\n",
    "    for ranges in convRanges:\n",
    "        results.append([])\n",
    "        \n",
    "        for d in range(3, D+1):\n",
    "            p1 = 0\n",
    "            p2 = 0\n",
    "            \n",
    "            for rounds in range(1000):\n",
    "                \n",
    "                conversionRates = list()\n",
    "                \n",
    "                for i in range(d):\n",
    "                    conversionRates.append(np.random.uniform(low=ranges[0], high=ranges[1]))\n",
    "                    \n",
    "                X = np.zeros((n, d))\n",
    "                \n",
    "                for i in range(n):\n",
    "                    for j in range(d):\n",
    "                        if np.random.rand() < conversionRates[j]:\n",
    "                            X[i][j] = 1\n",
    "                            \n",
    "                nPosReward = np.zeros(d)\n",
    "                nNegReward = np.zeros(d)\n",
    "                \n",
    "                for i in range(n):\n",
    "                    selected = 0\n",
    "                    maxRandom = 0\n",
    "                    \n",
    "                    for j in range(d):\n",
    "                        randomBeta = np.random.beta(nPosReward[j] + 1 , nNegReward[j] + 1)\n",
    "                        if randomBeta > maxRandom:\n",
    "                            maxRandom = randomBeta\n",
    "                            selected = j\n",
    "                            \n",
    "                    if X[i][selected] == 1:\n",
    "                        nPosReward[selected] += 1\n",
    "                    else:\n",
    "                        nNegReward[selected] += 1\n",
    "                        \n",
    "                nSelected = nPosReward + nNegReward\n",
    "                \n",
    "                left = n - max(nSelected)\n",
    "                \n",
    "                countStandard = np.zeros(d)\n",
    "                \n",
    "                x = int(left / d)\n",
    "                for i in range(x):\n",
    "                    for j in range(d):\n",
    "                        if X[i][j] == 1:\n",
    "                            countStandard[j] += 1\n",
    "                            \n",
    "                bestStandard = np.argmax(countStandard)\n",
    "                bestReal = np.argmax(conversionRates)\n",
    "                bestTS = np.argmax(nSelected)\n",
    "                \n",
    "                if bestTS == bestReal:\n",
    "                    p1 += 1\n",
    "                    \n",
    "                if bestStandard == bestReal:\n",
    "                    p2 += 1\n",
    "                    \n",
    "            print('N = ' + str(n) + ' d = ' + str(d) + ' range = ' + str(ranges) + ' | result Thompson Sampling = ' + str(p1) + ' result Standard solution = ' + str(p2))\n",
    "            results.append([n, ranges, p1, p2])\n",
    "            \n",
    "df = pd.DataFrame(results)"
   ]
  },
  {
   "cell_type": "code",
   "execution_count": null,
   "id": "4b31c2ee-bc50-4da6-86ef-0828abd10db0",
   "metadata": {},
   "outputs": [],
   "source": []
  }
 ],
 "metadata": {
  "kernelspec": {
   "display_name": "Python 3 (ipykernel)",
   "language": "python",
   "name": "python3"
  },
  "language_info": {
   "codemirror_mode": {
    "name": "ipython",
    "version": 3
   },
   "file_extension": ".py",
   "mimetype": "text/x-python",
   "name": "python",
   "nbconvert_exporter": "python",
   "pygments_lexer": "ipython3",
   "version": "3.9.10"
  }
 },
 "nbformat": 4,
 "nbformat_minor": 5
}
